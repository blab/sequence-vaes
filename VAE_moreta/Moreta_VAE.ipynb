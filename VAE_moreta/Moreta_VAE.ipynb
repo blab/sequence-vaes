{
 "cells": [
  {
   "cell_type": "code",
   "execution_count": 1,
   "id": "1cd4e94d-6911-4033-928b-a8a2a6216be0",
   "metadata": {},
   "outputs": [],
   "source": [
    "import torch\n",
    "import torch.nn as nn\n",
    "import torch.nn.functional as F\n",
    "from torch.utils.data import DataLoader\n",
    "import sys\n",
    "import os"
   ]
  },
  {
   "cell_type": "code",
   "execution_count": 2,
   "id": "e0ed0df4-9e78-4c15-b5ac-06e8f300683f",
   "metadata": {},
   "outputs": [
    {
     "name": "stdout",
     "output_type": "stream",
     "text": [
      "True\n"
     ]
    }
   ],
   "source": [
    "abspath = \"..\"\n",
    "print(torch.cuda.is_available())"
   ]
  },
  {
   "cell_type": "code",
   "execution_count": 3,
   "id": "495919f8-2487-4233-a69d-bd1e71943906",
   "metadata": {},
   "outputs": [
    {
     "name": "stderr",
     "output_type": "stream",
     "text": [
      "/home/averma2/miniforge3/envs/Moreta_env/lib/python3.9/site-packages/tqdm/auto.py:21: TqdmWarning: IProgress not found. Please update jupyter and ipywidgets. See https://ipywidgets.readthedocs.io/en/stable/user_install.html\n",
      "  from .autonotebook import tqdm as notebook_tqdm\n",
      "/home/averma2/miniforge3/envs/Moreta_env/lib/python3.9/site-packages/Bio/Application/__init__.py:39: BiopythonDeprecationWarning: The Bio.Application modules and modules relying on it have been deprecated.\n",
      "\n",
      "Due to the on going maintenance burden of keeping command line application\n",
      "wrappers up to date, we have decided to deprecate and eventually remove these\n",
      "modules.\n",
      "\n",
      "We instead now recommend building your command line and invoking it directly\n",
      "with the subprocess module.\n",
      "  warnings.warn(\n"
     ]
    }
   ],
   "source": [
    "sys.path.append(\"..\")\n",
    "from models import DNADataset, ALPHABET, SEQ_LENGTH, LATENT_DIM\n",
    "from matplotlib import pyplot as plt\n",
    "import numpy as np\n",
    "import pandas as pd\n",
    "from collections import namedtuple\n",
    "\n",
    "sys.path.append(\"../../DRAUPNIR_ASR/draupnir/src/\")\n",
    "import draupnir"
   ]
  },
  {
   "cell_type": "code",
   "execution_count": 4,
   "id": "a50877b1-c65c-40b0-a07f-6b459ae15328",
   "metadata": {},
   "outputs": [],
   "source": [
    "BATCH_SIZE = 64\n",
    "dataset = DNADataset(f\"{abspath}/data/alignment.fasta\")\n",
    "dataloader = DataLoader(dataset, batch_size=BATCH_SIZE, shuffle=True, pin_memory=True)"
   ]
  },
  {
   "cell_type": "code",
   "execution_count": 5,
   "id": "872882f3-841f-4bae-86e4-e5450d2d0075",
   "metadata": {},
   "outputs": [],
   "source": [
    "import argparse\n",
    "from argparse import RawTextHelpFormatter\n",
    "from draupnir import str2bool, str2None"
   ]
  },
  {
   "cell_type": "code",
   "execution_count": 6,
   "id": "b0223db6-c928-42a5-ba38-fbd179945636",
   "metadata": {},
   "outputs": [
    {
     "data": {
      "text/plain": [
       "_StoreAction(option_strings=['--parameter-search'], dest='parameter_search', nargs=None, const=None, default=False, type=<function str2bool at 0x77386ea14940>, choices=None, required=False, help='Activates a mini grid search for parameter search. TODO: Improve', metavar=None)"
      ]
     },
     "execution_count": 6,
     "metadata": {},
     "output_type": "execute_result"
    }
   ],
   "source": [
    "parser = argparse.ArgumentParser(description=\"Draupnir args\",formatter_class=RawTextHelpFormatter)\n",
    "parser.add_argument('-name','--dataset-name', type=str, nargs='?',\n",
    "                    default=\"simulations_blactamase_1\",\n",
    "                    #default=\"ABO\", #TODO: fix fasta and tree file to have same names\n",
    "                    help='Dataset project name, look at draupnir.available_datasets()')\n",
    "parser.add_argument('-use-custom','--use-custom', type=str2bool, nargs='?',\n",
    "                    default=False,\n",
    "                    help='True: Use a custom dataset (create your own dataset). First create a folder with the same name as args.dataset_name where to store the necessary files here: draupnir/src/draupnir/data) '\n",
    "                         'False: Use a default dataset (those shown in the paper) (they will automatically be downloaded at draupnir/src/draupnir/data)')\n",
    "parser.add_argument('-n', '--num-epochs', default=15000, type=int, help='number of training epochs')\n",
    "parser.add_argument('--alignment-file', type=str2None, nargs='?',\n",
    "                    #default=\"/home/lys/Dropbox/PhD/DRAUPNIR_ASR/PF0096/PF0096.mafft\",\n",
    "                    default=None,\n",
    "                    help='Path to alignment in fasta format (use with args.use_custom = True), with ALIGNED sequences. '\n",
    "                         'PLEASE make sure that the fasta header names and the names in the tree are the same')\n",
    "parser.add_argument('--tree-file', type=str2None, nargs='?',\n",
    "                    #default=\"/home/lys/Dropbox/PhD/DRAUPNIR_ASR/PF0096/PF0096.fasta.treefile\",\n",
    "                    default=None,\n",
    "                    help='Path to newick tree (in format 1 from ete3) (use with args.use_custom = True).'\n",
    "                         'PLEASE make sure that the fasta header names and the names in the tree are the same')\n",
    "parser.add_argument('--fasta-file', type=str2None, nargs='?',\n",
    "                    default=None,\n",
    "                    help='Path to fasta file (use with args.use_custom = True) with UNALIGNED sequences and NO tree (tree is inferred using IQtree). '\n",
    "                         'PLEASE make sure that the fasta header names and the names in the tree are the same')\n",
    "parser.add_argument('--leaf-embeddings', type=str2None, nargs='?',\n",
    "                    default=None,\n",
    "                    help='Path to dataframe containing pre-computed embeddings for the leaf sequences (i.e ESMB embeddings)') #TODO: IMPLEMENT\n",
    "parser.add_argument('-build', '--build-dataset', default=False, type=str2bool,\n",
    "                    help='True: Create and store the dataset from a given alignment file/tree or the unaligned sequences;'\n",
    "                         'False: Use previously stored data files under folder with -dataset-name or at draupnir/src/draupnir/data. '\n",
    "                         'Once you have built once the dataset you do not have to do it again (if everything went fine)'\n",
    "                         'Further customization can be found under draupnir/src/draupnir/datasets.py')\n",
    "parser.add_argument('-bsize','--batch-size', default=1, type=str2None,nargs='?',help='set batch size.\\n '\n",
    "                                                            'Set to 1 to NOT batch (batch_size == 1 batch == entire dataset).\\n '\n",
    "                                                            'Set to None it automatically suggests a batch size and activates batching (it is slow, only use for very large datasets).\\n '\n",
    "                                                            'If batch_by_clade=True: 1 batch= 1 clade (size given by clades_dict).'\n",
    "                                                            'Else set the batchsize to the given number')\n",
    "parser.add_argument('-aa-probs', default=21, type=int, help='21: 20 amino acids,1 gap probabilities \\n '\n",
    "                                                            ' 24: 23 amino acids, 1 gap')\n",
    "parser.add_argument('-n-samples','-n_samples', default=10, type=int, help='Number of samples (sequences sampled) per node')\n",
    "parser.add_argument('-use-blosum','--use-blosum', type=str2bool, nargs='?',default=True,help='Use blosum matrix embedding')\n",
    "parser.add_argument('-subs_matrix', default=\"BLOSUM62\", type=str, help='blosum matrix to create blosum embeddings, choose one from ~/anaconda3/pkgs/biopython-1.76-py37h516909a_0/lib/python3.7/site-packages/Bio/Align/substitution_matrices/data')\n",
    "parser.add_argument('-embedding-dim', default=50, type=int, help='Blosum embedding dim')\n",
    "parser.add_argument('-use-cuda', type=str2bool, nargs='?', default=True,\n",
    "                    help='True: Use GPU; False: Use CPU')\n",
    "parser.add_argument('-use-scheduler', type=str2bool, nargs='?', default=False, help='Use learning rate scheduler, to modify the learning rate during training. Only used with 1 large dataset in the paper')\n",
    "parser.add_argument('-test-frequency', default=100, type=int, help='sampling frequency (in epochs) during training, every <n> epochs, sample')\n",
    "parser.add_argument('-guide', '--select_guide', default=\"delta_map\", type=str,help='choose a guide, available types: \"delta_map\" , \"diagonal_normal\" or \"variational\"')\n",
    "#Highlight: Sample from a pre-trained model\n",
    "parser.add_argument('-load-pretrained-path', type=str, nargs='?',default=\"None\",\n",
    "                    help='Load pretrained Draupnir Checkpoints (folder path) to generate samples')\n",
    "parser.add_argument('-generate-samples', type=str2bool, nargs='?', default=False,help='Load fixed pretrained parameters (stored in Draupnir Checkpoints) and generate new samples')\n",
    "#Highlight: EXPERIMENTAL FEATURES\n",
    "parser.add_argument('-one-hot','--one-hot-encoded', type=str2bool, nargs='?',\n",
    "                    default=False,\n",
    "                    help='Build a one-hot-encoded dataset. Do not use, for now, Draupnir works with blosum-encoded and integers as amino acid representations, '\n",
    "                         'so this is not needed for Draupnir inference at the moment')\n",
    "parser.add_argument('-bbc','--batch-by-clade', type=str2bool, nargs='?', default=False, help='Experimental. Use the leaves divided by their corresponding clades into batches. Do not use with leaf-testing')\n",
    "parser.add_argument('-pdb_folder', default=None, type=str,\n",
    "                    help='Path to folder of PDB structures. The engine can read them and parse them into a dataset that the model can use.')\n",
    "parser.add_argument('-angles','--infer-angles', type=str2bool, nargs='?', default=False,help='Experimental. Additional Inference of angles. Use only with sequences associated PDB structures and their angles.')\n",
    "parser.add_argument('-kappa-addition', default=5, type=int, help='lower bound on the angles distribution parameters')\n",
    "parser.add_argument('-plate','--plating',  type=str2bool, nargs='?', default=False, help='Plating/Subsampling the mapping of the sequences (ONLY the sequences, not the latent space, '\n",
    "                                                                                         'see example in DRAUPNIRModel_classic_plating under models.py).\\n'\n",
    "                                                                                         ' Remember to set plating/subsampling size, otherwise it is done automatically')\n",
    "parser.add_argument('-plate-size','--plating_size', type=str2None, nargs='?',default=None,help='Set plating/subsampling size:\\n '\n",
    "                                                                'If set to None it automatically suggests a plate size, only if args.plating is TRUE!. Otherwise it remains as None and no plating occurs\\n '\n",
    "                                                                'Else it sets the plate size to a given integer')\n",
    "parser.add_argument('-plate-idx-shuffle','--plate-unordered', type=str2bool, nargs='?',const=None, default=False,help='When subsampling/plating, shuffle (True) or not (False) the idx of the sequences which are given in tree level order')\n",
    "parser.add_argument('-position-embedding-dim', default=30, type=int, help='Tree position embedding dimension size')\n",
    "parser.add_argument('-max-indel-size', default=5, type=int, help='maximum insertion deletion size (not used)')\n",
    "parser.add_argument('-activate-elbo-convergence', default=False, type=bool, help='extends the running time until a convergence criteria in the elbo loss is met')\n",
    "parser.add_argument('-activate-entropy-convergence', default=False, type=bool, help='extends the running time until a convergence criteria in the sequence entropy is met')\n",
    "#TODO: Ray HPO? Would need to do for each protein family\n",
    "parser.add_argument('-d', '--config-dict', default=None,type=str, help=\"Used with parameter search\")\n",
    "parser.add_argument('--parameter-search', type=str2bool, default=False, help=\"Activates a mini grid search for parameter search. TODO: Improve\") #TODO: Change to something that makes more sense"
   ]
  },
  {
   "cell_type": "code",
   "execution_count": 7,
   "id": "ca2916d0-c0a0-472a-af0b-fdb641ea4cf0",
   "metadata": {},
   "outputs": [],
   "source": [
    "# args = parser.parse_args([\"--dataset-name\", \"benchmark_randall_original_naming\", \n",
    "#                           \"--alignment-file\", \"../../DRAUPNIR_ASR/data/benchmark_randall_original_naming/benchmark_randall_original_naming.mafft\",\n",
    "#                          \"--tree-file\",\"../../DRAUPNIR_ASR/data/benchmark_randall_original_naming/RandallBenchmarkTree_OriginalNaming.tree\",\n",
    "#                          \"--select_guide\", \"variational\"])"
   ]
  },
  {
   "cell_type": "code",
   "execution_count": 8,
   "id": "62a61530-62f1-4de6-b70b-1800691105a5",
   "metadata": {},
   "outputs": [],
   "source": [
    "args = parser.parse_args([\"--dataset-name\", \"draupnir_data\", \n",
    "                            \"--use-custom\", \"True\",\n",
    "                            \"--alignment-file\", \"../../DRAUPNIR_ASR/data/benchmark_randall_original_naming/draupnir_data.fasta/\",\n",
    "                            \"--tree-file\",\"../../DRAUPNIR_ASR/data/benchmark_randall_original_naming/draupnir_data.tree\",\n",
    "                            \"--select_guide\", \"variational\"])"
   ]
  },
  {
   "cell_type": "code",
   "execution_count": 9,
   "id": "bceae445-d977-405f-b809-7901d590d9b5",
   "metadata": {},
   "outputs": [
    {
     "name": "stdout",
     "output_type": "stream",
     "text": [
      "args:\n",
      "------------------------------\n",
      "aa_probs                                :\t21\n",
      "activate_elbo_convergence               :\tFalse\n",
      "activate_entropy_convergence            :\tFalse\n",
      "alignment_file                          :\t../../DRAUPNIR_ASR/data/benchmark_randall_original_naming/draupnir_data.fasta/\n",
      "batch_by_clade                          :\tFalse\n",
      "batch_size                              :\t1\n",
      "build_dataset                           :\tFalse\n",
      "config_dict                             :\tNone\n",
      "dataset_name                            :\tdraupnir_data\n",
      "device                                  :\tcuda\n",
      "embedding_dim                           :\t50\n",
      "fasta_file                              :\tNone\n",
      "generate_samples                        :\tFalse\n",
      "infer_angles                            :\tFalse\n",
      "kappa_addition                          :\t5\n",
      "leaf_embeddings                         :\tNone\n",
      "load_pretrained_path                    :\tNone\n",
      "max_indel_size                          :\t5\n",
      "n_samples                               :\t10\n",
      "num_epochs                              :\t15000\n",
      "one_hot_encoded                         :\tFalse\n",
      "parameter_search                        :\tFalse\n",
      "pdb_folder                              :\tNone\n",
      "plate_unordered                         :\tFalse\n",
      "plating                                 :\tFalse\n",
      "plating_size                            :\tNone\n",
      "position_embedding_dim                  :\t30\n",
      "select_guide                            :\tvariational\n",
      "subs_matrix                             :\tBLOSUM62\n",
      "test_frequency                          :\t100\n",
      "tree_file                               :\t../../DRAUPNIR_ASR/data/benchmark_randall_original_naming/draupnir_data.tree\n",
      "use_blosum                              :\tTrue\n",
      "use_cuda                                :\tTrue\n",
      "use_custom                              :\tTrue\n",
      "use_scheduler                           :\tFalse\n"
     ]
    }
   ],
   "source": [
    "# args.__dict__[\"device\"] = \"cuda:1\" if torch.cuda.is_available() else \"cpu\"\n",
    "args.__dict__[\"device\"] = \"cuda\" if torch.cuda.is_available() else \"cpu\"\n",
    "print(\"args:\\n------------------------------\")\n",
    "for k,v in sorted(vars(args).items()):\n",
    "    print(f\"%-40s:\\t{v}\"%f\"{k}\")\n",
    "torch.set_default_dtype(torch.float64)\n"
   ]
  },
  {
   "cell_type": "code",
   "execution_count": 16,
   "id": "6164f744-fbb0-4f34-9168-cbe3524902cc",
   "metadata": {},
   "outputs": [],
   "source": [
    "# data = None\n",
    "# with open(\"../data/draupnir_data/draupnir_data.mafft\",\"r\") as f:\n",
    "#     data = f.readlines()\n",
    "#     data = [x.upper() if '>' not in x else x for x in data]\n",
    "\n",
    "# with open(\"../data/draupnir_data/draupnir_data_alignment.fasta\", \"w\") as f:\n",
    "#     f.write(\"\".join(data))"
   ]
  },
  {
   "cell_type": "code",
   "execution_count": 18,
   "id": "bc5be761-1368-4c74-8f78-d70b8ec27e3b",
   "metadata": {},
   "outputs": [
    {
     "name": "stderr",
     "output_type": "stream",
     "text": [
      "/home/averma2/code/sequence-vaes/VAE_moreta/../../DRAUPNIR_ASR/draupnir/src/draupnir/datasets.py:342: UserWarning: You have selected to use a custom dataset, make sure to have at least a fasta file ready\n",
      "  warnings.warn(\"You have selected to use a custom dataset, make sure to have at least a fasta file ready\")\n"
     ]
    },
    {
     "name": "stdout",
     "output_type": "stream",
     "text": [
      "Analyzing alignment...\n",
      "Reading given alignment file ...\n",
      "Using given tree file...\n",
      "Building patristic and cladistic matrices ...\n",
      "Dataset larger than 200 sequences: Using R script for patristic distances (cladistic matrix is NOT available)!\n"
     ]
    },
    {
     "name": "stderr",
     "output_type": "stream",
     "text": [
      "/home/averma2/code/sequence-vaes/VAE_moreta/../../DRAUPNIR_ASR/draupnir/src/draupnir/utils.py:511: UserWarning: Dataset larger than 200 sequences: Requires R and the ape library\n",
      "  warnings.warn(\"Dataset larger than 200 sequences: Requires R and the ape library\")\n"
     ]
    },
    {
     "name": "stdout",
     "output_type": "stream",
     "text": [
      "[1] \"suscessfully running R script\"\n",
      "\n",
      "Phylogenetic tree with 466 tips and 464 internal nodes.\n",
      "\n",
      "Tip labels:\n",
      "  NODE_0000000, Wuhan/Hu-1/2019, NODE_0000003, NODE_0000004, Australia/QLD1738/2021, USA/CA-LACPHL-AF01176/2021, ...\n",
      "Node labels:\n",
      "  , A467, A468, A469, A470, A472, ...\n",
      "\n",
      "Unrooted; includes branch length(s).\n",
      "Ready and saved!\n"
     ]
    },
    {
     "name": "stderr",
     "output_type": "stream",
     "text": [
      "/home/averma2/code/sequence-vaes/VAE_moreta/../../DRAUPNIR_ASR/draupnir/src/draupnir/utils.py:903: UserWarning: Building clades (Collapses the original tree into monophyletic clades!)\n",
      "  warnings.warn(\"Building clades (Collapses the original tree into monophyletic clades!)\")\n"
     ]
    },
    {
     "name": "stdout",
     "output_type": "stream",
     "text": [
      "Creating not aligned dataset...\n"
     ]
    }
   ],
   "source": [
    "build_config, settings_config, root_sequence_name = draupnir.datasets.create_draupnir_dataset(\"draupnir_data\", \n",
    "                                                                                             fasta_file=\"../data/draupnir_data/draupnir_data.fasta\", \n",
    "                                                                                             tree_file=\"../data/draupnir_data/draupnir_data.tree\", \n",
    "                                                                                             alignment_file = \"../data/draupnir_data/draupnir_data_alignment.fasta\",\n",
    "                                                                                             use_custom=True,\n",
    "                                                                                             script_dir=\".\",\n",
    "                                                                                             args=args,\n",
    "                                                                                             build=True)"
   ]
  },
  {
   "cell_type": "code",
   "execution_count": 11,
   "id": "20f41a53-1152-436f-8fb7-828b58cd3e60",
   "metadata": {},
   "outputs": [],
   "source": [
    "# BuildConfig = namedtuple('BuildConfig',['alignment_file','use_ancestral','n_test','build_graph',\"aa_probs\",\"triTSNE\",\n",
    "#                                         \"leaves_testing\",\"script_dir\",\"no_testing\"])\n",
    "# SettingsConfig = namedtuple(\"SettingsConfig\",[\"one_hot_encoding\", \"model_design\",\"aligned_seq\",\"data_folder\",\"full_name\",\"tree_file\"])"
   ]
  },
  {
   "cell_type": "code",
   "execution_count": 12,
   "id": "e6568e08-0c1b-42ad-b3c3-88da281d4444",
   "metadata": {},
   "outputs": [],
   "source": [
    "param_config = {\n",
    "            \"lr\": 1e-3,\n",
    "            \"beta1\": 0.9, #coefficients used for computing running averages of gradient and its square (default: (0.9, 0.999))\n",
    "            \"beta2\": 0.999,\n",
    "            \"eps\": 1e-8,#term added to the denominator to improve numerical stability (default: 1e-8)\n",
    "            \"weight_decay\": 0,#weight_decay: weight decay (L2 penalty) (default: 0)\n",
    "            \"clip_norm\": 10,#clip_norm: magnitude of norm to which gradients are clipped (default: 10.0)\n",
    "            \"lrd\": 1, #rate at which learning rate decays (default: 1.0)\n",
    "            \"z_dim\": 30,\n",
    "            \"gru_hidden_dim\": 60, #60\n",
    "        }\n",
    "\n",
    "# root_sequence_name = None\n",
    "name = \"draupnir_data\"\n",
    "\n",
    "# build_config = BuildConfig(alignment_file='../../DRAUPNIR_ASR/data/benchmark_randall_original_naming/benchmark_randall_original_naming.mafft', \n",
    "#             use_ancestral=True, \n",
    "#             n_test=0, \n",
    "#             build_graph=True, \n",
    "#             aa_probs=21, \n",
    "#             triTSNE=False, \n",
    "#             leaves_testing=False, \n",
    "#             script_dir='.', \n",
    "#             no_testing=False)\n",
    "\n",
    "# settings_config = SettingsConfig(one_hot_encoding=False, \n",
    "#                model_design='GP_VAE', \n",
    "#                aligned_seq=True, \n",
    "#                data_folder='/home/averma2/code/DRAUPNIR_ASR/data/benchmark_randall_original_naming', \n",
    "#                full_name=\"Randall's Coral fluorescent proteins (CFP) benchmark dataset\", \n",
    "#                tree_file='/home/averma2/code/DRAUPNIR_ASR/data/benchmark_randall_original_naming/RandallBenchmarkTree_OriginalNaming.tree')\n",
    "\n",
    "results_dir = os.getcwd() + \"/results\"\n",
    "\n",
    "script_dir = os.getcwd()"
   ]
  },
  {
   "cell_type": "code",
   "execution_count": 13,
   "id": "1354d3e9-b22d-4d9d-856c-1b8078784240",
   "metadata": {},
   "outputs": [
    {
     "name": "stdout",
     "output_type": "stream",
     "text": [
      "No cladistic matrix available. Evolutionary matrix = Patristic matrix\n",
      "No testing, there is not a test dataset, we will just predict the ancestors without checking their accuracy due to abscence of test data\n",
      "Creating empty test dataset ONLY with the internal nodes names (no sequences) \n"
     ]
    },
    {
     "name": "stderr",
     "output_type": "stream",
     "text": [
      "/home/averma2/miniforge3/envs/Moreta_env/lib/python3.9/site-packages/torch/cuda/__init__.py:611: UserWarning: Can't initialize NVML\n",
      "  warnings.warn(\"Can't initialize NVML\")\n"
     ]
    }
   ],
   "source": [
    "train_load,test_load,additional_load,build_config = draupnir.main.load_data(name,settings_config,build_config,param_config,results_dir,script_dir,args)\n",
    "additional_info = draupnir.utils.extra_processing(additional_load.ancestor_info_numbers, additional_load.patristic_matrix_full,results_dir,args,build_config)\n",
    "train_load,test_load,additional_load= draupnir.load_utils.datasets_pretreatment(name,root_sequence_name,train_load,test_load,additional_load,build_config,args,settings_config,script_dir)"
   ]
  },
  {
   "cell_type": "code",
   "execution_count": 14,
   "id": "503551af-9ced-4fc3-8728-80da60a28d4a",
   "metadata": {},
   "outputs": [],
   "source": [
    "# names = [\"train_load\",\"test_load\",\"additional_load\",\"build_config\",\"additional_info\"]\n",
    "# vs = [train_load,test_load,additional_load,build_config,additional_info]\n",
    "\n",
    "# for i in range(len(vs)):\n",
    "#     info_dict = vs[i]._asdict()\n",
    "#     for key,val in info_dict.items():\n",
    "#         if str(type(val)) == \"<class 'torch.Tensor'>\":\n",
    "#             vs[i] = vs[i]._replace(**{key:val.to(args.device)})\n",
    "\n",
    "# train_load = vs[0]\n",
    "# test_load = vs[1]\n",
    "# additional_load = vs[2]\n",
    "# build_config = vs[3]\n",
    "# additional_info = vs[4]\n",
    "\n",
    "# for i,v in enumerate(vs):\n",
    "#     print(names[i] + \"\\n-----------\")\n",
    "#     info_dict = v._asdict()\n",
    "#     for key,val in info_dict.items():        \n",
    "#         print(f\"%-30s:\\t{str(type(val))}\"%f\"{key}\")\n",
    "#     print()"
   ]
  },
  {
   "cell_type": "code",
   "execution_count": 15,
   "id": "1488f064-d356-47ca-9ab4-235fe2e79c81",
   "metadata": {},
   "outputs": [
    {
     "name": "stdout",
     "output_type": "stream",
     "text": [
      "Starting Draupnir ...\n",
      "Dataset: draupnir_data\n",
      "Number epochs: 15000\n",
      "Z/latent Size: 30\n",
      "GRU hidden size: 60\n",
      "Number train sequences: 466\n",
      "Number test sequences: 464\n",
      "Selected Substitution matrix : BLOSUM62\n"
     ]
    }
   ],
   "source": [
    "if args.one_hot_encoded:\n",
    "    raise ValueError(\"Please set one_hot_encoding to False\")\n",
    "\n",
    "print(\"Starting Draupnir ...\")\n",
    "print(\"Dataset: {}\".format(name))\n",
    "print(\"Number epochs: {}\".format(args.num_epochs))\n",
    "print(\"Z/latent Size: {}\".format(param_config[\"z_dim\"]))\n",
    "print(\"GRU hidden size: {}\".format(param_config[\"gru_hidden_dim\"]))\n",
    "print(\"Number train sequences: {}\".format(train_load.dataset_train.shape[0]))\n",
    "n_test = [test_load.dataset_test.shape[0] if test_load.dataset_test is not None else 0][0]\n",
    "print(\"Number test sequences: {}\".format(n_test))\n",
    "print(\"Selected Substitution matrix : {}\".format(args.subs_matrix))"
   ]
  },
  {
   "cell_type": "code",
   "execution_count": 16,
   "id": "5f70d762-dbc9-4ea4-892d-5f8dc6a55f53",
   "metadata": {},
   "outputs": [
    {
     "name": "stdout",
     "output_type": "stream",
     "text": [
      "Training Draupnir with the entire tree at once, not batching\n",
      "Using model DRAUPNIRModel_classic WITHOUT plating\n",
      "Using variational as guide\n",
      " Train_loader size:  1 batches\n",
      "('f', 'svi', 'training_function_input')\n"
     ]
    },
    {
     "ename": "RuntimeError",
     "evalue": "NVML_SUCCESS == DriverAPI::get()->nvmlInit_v2_() INTERNAL ASSERT FAILED at \"/opt/conda/conda-bld/pytorch_1695392035629/work/c10/cuda/CUDACachingAllocator.cpp\":1123, please report a bug to PyTorch. \nTrace Shapes:         \n Param Sites:         \nSample Sites:         \n   alpha dist |  3    \n        value |  3    \n sigma_f dist | 30    \n        value | 30    \n sigma_n dist | 30    \n        value | 30    \n   lambd dist | 30    \n        value | 30    \nlatent_z dist | 30 466\n        value | 30 466",
     "output_type": "error",
     "traceback": [
      "\u001b[0;31m---------------------------------------------------------------------------\u001b[0m",
      "\u001b[0;31mRuntimeError\u001b[0m                              Traceback (most recent call last)",
      "File \u001b[0;32m~/miniforge3/envs/Moreta_env/lib/python3.9/site-packages/pyro/poutine/trace_messenger.py:191\u001b[0m, in \u001b[0;36mTraceHandler.__call__\u001b[0;34m(self, *args, **kwargs)\u001b[0m\n\u001b[1;32m    190\u001b[0m \u001b[38;5;28;01mtry\u001b[39;00m:\n\u001b[0;32m--> 191\u001b[0m     ret \u001b[38;5;241m=\u001b[39m \u001b[38;5;28;43mself\u001b[39;49m\u001b[38;5;241;43m.\u001b[39;49m\u001b[43mfn\u001b[49m\u001b[43m(\u001b[49m\u001b[38;5;241;43m*\u001b[39;49m\u001b[43margs\u001b[49m\u001b[43m,\u001b[49m\u001b[43m \u001b[49m\u001b[38;5;241;43m*\u001b[39;49m\u001b[38;5;241;43m*\u001b[39;49m\u001b[43mkwargs\u001b[49m\u001b[43m)\u001b[49m\n\u001b[1;32m    192\u001b[0m \u001b[38;5;28;01mexcept\u001b[39;00m (\u001b[38;5;167;01mValueError\u001b[39;00m, \u001b[38;5;167;01mRuntimeError\u001b[39;00m) \u001b[38;5;28;01mas\u001b[39;00m e:\n",
      "File \u001b[0;32m~/miniforge3/envs/Moreta_env/lib/python3.9/site-packages/pyro/poutine/messenger.py:32\u001b[0m, in \u001b[0;36m_context_wrap\u001b[0;34m(context, fn, *args, **kwargs)\u001b[0m\n\u001b[1;32m     31\u001b[0m \u001b[38;5;28;01mwith\u001b[39;00m context:\n\u001b[0;32m---> 32\u001b[0m     \u001b[38;5;28;01mreturn\u001b[39;00m \u001b[43mfn\u001b[49m\u001b[43m(\u001b[49m\u001b[38;5;241;43m*\u001b[39;49m\u001b[43margs\u001b[49m\u001b[43m,\u001b[49m\u001b[43m \u001b[49m\u001b[38;5;241;43m*\u001b[39;49m\u001b[38;5;241;43m*\u001b[39;49m\u001b[43mkwargs\u001b[49m\u001b[43m)\u001b[49m\n",
      "File \u001b[0;32m~/miniforge3/envs/Moreta_env/lib/python3.9/site-packages/pyro/poutine/messenger.py:32\u001b[0m, in \u001b[0;36m_context_wrap\u001b[0;34m(context, fn, *args, **kwargs)\u001b[0m\n\u001b[1;32m     31\u001b[0m \u001b[38;5;28;01mwith\u001b[39;00m context:\n\u001b[0;32m---> 32\u001b[0m     \u001b[38;5;28;01mreturn\u001b[39;00m \u001b[43mfn\u001b[49m\u001b[43m(\u001b[49m\u001b[38;5;241;43m*\u001b[39;49m\u001b[43margs\u001b[49m\u001b[43m,\u001b[49m\u001b[43m \u001b[49m\u001b[38;5;241;43m*\u001b[39;49m\u001b[38;5;241;43m*\u001b[39;49m\u001b[43mkwargs\u001b[49m\u001b[43m)\u001b[49m\n",
      "File \u001b[0;32m~/code/sequence-vaes/VAE_moreta/../../DRAUPNIR_ASR/draupnir/src/draupnir/models.py:359\u001b[0m, in \u001b[0;36mDRAUPNIRModel_classic.model\u001b[0;34m(self, family_data, patristic_matrix_sorted, cladistic_matrix, data_blosum, batch_blosum, guide_map_estimates)\u001b[0m\n\u001b[1;32m    358\u001b[0m \u001b[38;5;28;01melse\u001b[39;00m:\n\u001b[0;32m--> 359\u001b[0m     \u001b[38;5;28;43mself\u001b[39;49m\u001b[38;5;241;43m.\u001b[39;49m\u001b[43mmodel_variational\u001b[49m\u001b[43m(\u001b[49m\u001b[43mfamily_data\u001b[49m\u001b[43m,\u001b[49m\u001b[43m \u001b[49m\u001b[43mpatristic_matrix_sorted\u001b[49m\u001b[43m,\u001b[49m\u001b[43m \u001b[49m\u001b[43mcladistic_matrix\u001b[49m\u001b[43m,\u001b[49m\u001b[43m \u001b[49m\u001b[43mdata_blosum\u001b[49m\u001b[43m,\u001b[49m\u001b[43mbatch_blosum\u001b[49m\u001b[43m,\u001b[49m\u001b[43m \u001b[49m\u001b[43mguide_map_estimates\u001b[49m\u001b[43m)\u001b[49m\n",
      "File \u001b[0;32m~/code/sequence-vaes/VAE_moreta/../../DRAUPNIR_ASR/draupnir/src/draupnir/models.py:322\u001b[0m, in \u001b[0;36mDRAUPNIRModel_classic.model_variational\u001b[0;34m(self, family_data, patristic_matrix_sorted, cladistic_matrix, data_blosum, batch_blosum, guide_map_estimates)\u001b[0m\n\u001b[1;32m    321\u001b[0m \u001b[38;5;28;01mwith\u001b[39;00m pyro\u001b[38;5;241m.\u001b[39mplate(\u001b[38;5;124m\"\u001b[39m\u001b[38;5;124mplate_len\u001b[39m\u001b[38;5;124m\"\u001b[39m, dim\u001b[38;5;241m=\u001b[39m\u001b[38;5;241m-\u001b[39m\u001b[38;5;241m2\u001b[39m):\n\u001b[0;32m--> 322\u001b[0m         logits \u001b[38;5;241m=\u001b[39m \u001b[38;5;28;43mself\u001b[39;49m\u001b[38;5;241;43m.\u001b[39;49m\u001b[43mdecoder\u001b[49m\u001b[38;5;241;43m.\u001b[39;49m\u001b[43mforward\u001b[49m\u001b[43m(\u001b[49m\n\u001b[1;32m    323\u001b[0m \u001b[43m            \u001b[49m\u001b[38;5;28;43minput\u001b[39;49m\u001b[38;5;241;43m=\u001b[39;49m\u001b[43mlatent_space\u001b[49m\u001b[43m,\u001b[49m\n\u001b[1;32m    324\u001b[0m \u001b[43m            \u001b[49m\u001b[43mhidden\u001b[49m\u001b[38;5;241;43m=\u001b[39;49m\u001b[43mdecoder_hidden\u001b[49m\u001b[43m)\u001b[49m\n\u001b[1;32m    325\u001b[0m         pyro\u001b[38;5;241m.\u001b[39msample(\u001b[38;5;124m\"\u001b[39m\u001b[38;5;124maa_sequences\u001b[39m\u001b[38;5;124m\"\u001b[39m, dist\u001b[38;5;241m.\u001b[39mCategorical(logits\u001b[38;5;241m=\u001b[39mlogits),obs\u001b[38;5;241m=\u001b[39maminoacid_sequences)\n",
      "File \u001b[0;32m~/code/sequence-vaes/VAE_moreta/../../DRAUPNIR_ASR/draupnir/src/draupnir/models_utils.py:94\u001b[0m, in \u001b[0;36mRNNDecoder_Tiling.forward\u001b[0;34m(self, input, hidden)\u001b[0m\n\u001b[1;32m     93\u001b[0m \u001b[38;5;28;01mdef\u001b[39;00m\u001b[38;5;250m \u001b[39m\u001b[38;5;21mforward\u001b[39m(\u001b[38;5;28mself\u001b[39m, \u001b[38;5;28minput\u001b[39m, hidden):\n\u001b[0;32m---> 94\u001b[0m     rnn_output, rnn_hidden \u001b[38;5;241m=\u001b[39m \u001b[38;5;28;43mself\u001b[39;49m\u001b[38;5;241;43m.\u001b[39;49m\u001b[43mrnn\u001b[49m\u001b[43m(\u001b[49m\u001b[38;5;28;43minput\u001b[39;49m\u001b[43m,\u001b[49m\u001b[43m \u001b[49m\u001b[43mhidden\u001b[49m\u001b[43m)\u001b[49m  \u001b[38;5;66;03m# [n_nodes,align_seq_len,gru_dim] | [1,n_nodes,gru_dim]\u001b[39;00m\n\u001b[1;32m     95\u001b[0m     \u001b[38;5;66;03m#forward_out = rnn_output[:, :, :self.gru_hidden_dim]\u001b[39;00m\n\u001b[1;32m     96\u001b[0m     \u001b[38;5;66;03m#backward_out = rnn_output[:, :, self.gru_hidden_dim:]\u001b[39;00m\n\u001b[1;32m     97\u001b[0m     \u001b[38;5;66;03m#rnn_output_out = torch.cat((forward_out, backward_out), dim=2)\u001b[39;00m\n",
      "File \u001b[0;32m~/miniforge3/envs/Moreta_env/lib/python3.9/site-packages/torch/nn/modules/module.py:1518\u001b[0m, in \u001b[0;36mModule._wrapped_call_impl\u001b[0;34m(self, *args, **kwargs)\u001b[0m\n\u001b[1;32m   1517\u001b[0m \u001b[38;5;28;01melse\u001b[39;00m:\n\u001b[0;32m-> 1518\u001b[0m     \u001b[38;5;28;01mreturn\u001b[39;00m \u001b[38;5;28;43mself\u001b[39;49m\u001b[38;5;241;43m.\u001b[39;49m\u001b[43m_call_impl\u001b[49m\u001b[43m(\u001b[49m\u001b[38;5;241;43m*\u001b[39;49m\u001b[43margs\u001b[49m\u001b[43m,\u001b[49m\u001b[43m \u001b[49m\u001b[38;5;241;43m*\u001b[39;49m\u001b[38;5;241;43m*\u001b[39;49m\u001b[43mkwargs\u001b[49m\u001b[43m)\u001b[49m\n",
      "File \u001b[0;32m~/miniforge3/envs/Moreta_env/lib/python3.9/site-packages/torch/nn/modules/module.py:1527\u001b[0m, in \u001b[0;36mModule._call_impl\u001b[0;34m(self, *args, **kwargs)\u001b[0m\n\u001b[1;32m   1524\u001b[0m \u001b[38;5;28;01mif\u001b[39;00m \u001b[38;5;129;01mnot\u001b[39;00m (\u001b[38;5;28mself\u001b[39m\u001b[38;5;241m.\u001b[39m_backward_hooks \u001b[38;5;129;01mor\u001b[39;00m \u001b[38;5;28mself\u001b[39m\u001b[38;5;241m.\u001b[39m_backward_pre_hooks \u001b[38;5;129;01mor\u001b[39;00m \u001b[38;5;28mself\u001b[39m\u001b[38;5;241m.\u001b[39m_forward_hooks \u001b[38;5;129;01mor\u001b[39;00m \u001b[38;5;28mself\u001b[39m\u001b[38;5;241m.\u001b[39m_forward_pre_hooks\n\u001b[1;32m   1525\u001b[0m         \u001b[38;5;129;01mor\u001b[39;00m _global_backward_pre_hooks \u001b[38;5;129;01mor\u001b[39;00m _global_backward_hooks\n\u001b[1;32m   1526\u001b[0m         \u001b[38;5;129;01mor\u001b[39;00m _global_forward_hooks \u001b[38;5;129;01mor\u001b[39;00m _global_forward_pre_hooks):\n\u001b[0;32m-> 1527\u001b[0m     \u001b[38;5;28;01mreturn\u001b[39;00m \u001b[43mforward_call\u001b[49m\u001b[43m(\u001b[49m\u001b[38;5;241;43m*\u001b[39;49m\u001b[43margs\u001b[49m\u001b[43m,\u001b[49m\u001b[43m \u001b[49m\u001b[38;5;241;43m*\u001b[39;49m\u001b[38;5;241;43m*\u001b[39;49m\u001b[43mkwargs\u001b[49m\u001b[43m)\u001b[49m\n\u001b[1;32m   1529\u001b[0m \u001b[38;5;28;01mtry\u001b[39;00m:\n",
      "File \u001b[0;32m~/miniforge3/envs/Moreta_env/lib/python3.9/site-packages/torch/nn/modules/rnn.py:1102\u001b[0m, in \u001b[0;36mGRU.forward\u001b[0;34m(self, input, hx)\u001b[0m\n\u001b[1;32m   1101\u001b[0m \u001b[38;5;28;01mif\u001b[39;00m batch_sizes \u001b[38;5;129;01mis\u001b[39;00m \u001b[38;5;28;01mNone\u001b[39;00m:\n\u001b[0;32m-> 1102\u001b[0m     result \u001b[38;5;241m=\u001b[39m \u001b[43m_VF\u001b[49m\u001b[38;5;241;43m.\u001b[39;49m\u001b[43mgru\u001b[49m\u001b[43m(\u001b[49m\u001b[38;5;28;43minput\u001b[39;49m\u001b[43m,\u001b[49m\u001b[43m \u001b[49m\u001b[43mhx\u001b[49m\u001b[43m,\u001b[49m\u001b[43m \u001b[49m\u001b[38;5;28;43mself\u001b[39;49m\u001b[38;5;241;43m.\u001b[39;49m\u001b[43m_flat_weights\u001b[49m\u001b[43m,\u001b[49m\u001b[43m \u001b[49m\u001b[38;5;28;43mself\u001b[39;49m\u001b[38;5;241;43m.\u001b[39;49m\u001b[43mbias\u001b[49m\u001b[43m,\u001b[49m\u001b[43m \u001b[49m\u001b[38;5;28;43mself\u001b[39;49m\u001b[38;5;241;43m.\u001b[39;49m\u001b[43mnum_layers\u001b[49m\u001b[43m,\u001b[49m\n\u001b[1;32m   1103\u001b[0m \u001b[43m                     \u001b[49m\u001b[38;5;28;43mself\u001b[39;49m\u001b[38;5;241;43m.\u001b[39;49m\u001b[43mdropout\u001b[49m\u001b[43m,\u001b[49m\u001b[43m \u001b[49m\u001b[38;5;28;43mself\u001b[39;49m\u001b[38;5;241;43m.\u001b[39;49m\u001b[43mtraining\u001b[49m\u001b[43m,\u001b[49m\u001b[43m \u001b[49m\u001b[38;5;28;43mself\u001b[39;49m\u001b[38;5;241;43m.\u001b[39;49m\u001b[43mbidirectional\u001b[49m\u001b[43m,\u001b[49m\u001b[43m \u001b[49m\u001b[38;5;28;43mself\u001b[39;49m\u001b[38;5;241;43m.\u001b[39;49m\u001b[43mbatch_first\u001b[49m\u001b[43m)\u001b[49m\n\u001b[1;32m   1104\u001b[0m \u001b[38;5;28;01melse\u001b[39;00m:\n",
      "File \u001b[0;32m~/miniforge3/envs/Moreta_env/lib/python3.9/site-packages/torch/utils/_device.py:77\u001b[0m, in \u001b[0;36mDeviceContext.__torch_function__\u001b[0;34m(self, func, types, args, kwargs)\u001b[0m\n\u001b[1;32m     76\u001b[0m     kwargs[\u001b[38;5;124m'\u001b[39m\u001b[38;5;124mdevice\u001b[39m\u001b[38;5;124m'\u001b[39m] \u001b[38;5;241m=\u001b[39m \u001b[38;5;28mself\u001b[39m\u001b[38;5;241m.\u001b[39mdevice\n\u001b[0;32m---> 77\u001b[0m \u001b[38;5;28;01mreturn\u001b[39;00m \u001b[43mfunc\u001b[49m\u001b[43m(\u001b[49m\u001b[38;5;241;43m*\u001b[39;49m\u001b[43margs\u001b[49m\u001b[43m,\u001b[49m\u001b[43m \u001b[49m\u001b[38;5;241;43m*\u001b[39;49m\u001b[38;5;241;43m*\u001b[39;49m\u001b[43mkwargs\u001b[49m\u001b[43m)\u001b[49m\n",
      "\u001b[0;31mRuntimeError\u001b[0m: NVML_SUCCESS == DriverAPI::get()->nvmlInit_v2_() INTERNAL ASSERT FAILED at \"/opt/conda/conda-bld/pytorch_1695392035629/work/c10/cuda/CUDACachingAllocator.cpp\":1123, please report a bug to PyTorch. ",
      "\nThe above exception was the direct cause of the following exception:\n",
      "\u001b[0;31mRuntimeError\u001b[0m                              Traceback (most recent call last)",
      "Cell \u001b[0;32mIn[16], line 7\u001b[0m\n\u001b[1;32m      5\u001b[0m     clades_dict \u001b[38;5;241m=\u001b[39m additional_load\u001b[38;5;241m.\u001b[39mclades_dict_leaves\n\u001b[1;32m      6\u001b[0m graph_coo \u001b[38;5;241m=\u001b[39m \u001b[38;5;28;01mNone\u001b[39;00m \u001b[38;5;66;03m#Highlight: use only with the GNN models (7)---> Otherwise it is found in additional_info\u001b[39;00m\n\u001b[0;32m----> 7\u001b[0m \u001b[43mdraupnir\u001b[49m\u001b[38;5;241;43m.\u001b[39;49m\u001b[43mmain\u001b[49m\u001b[38;5;241;43m.\u001b[39;49m\u001b[43mdraupnir_train\u001b[49m\u001b[43m(\u001b[49m\u001b[43mtrain_load\u001b[49m\u001b[43m,\u001b[49m\n\u001b[1;32m      8\u001b[0m \u001b[43m                            \u001b[49m\u001b[43mtest_load\u001b[49m\u001b[43m,\u001b[49m\n\u001b[1;32m      9\u001b[0m \u001b[43m                            \u001b[49m\u001b[43madditional_load\u001b[49m\u001b[43m,\u001b[49m\n\u001b[1;32m     10\u001b[0m \u001b[43m                            \u001b[49m\u001b[43madditional_info\u001b[49m\u001b[43m,\u001b[49m\n\u001b[1;32m     11\u001b[0m \u001b[43m                            \u001b[49m\u001b[43mbuild_config\u001b[49m\u001b[43m,\u001b[49m\n\u001b[1;32m     12\u001b[0m \u001b[43m                            \u001b[49m\u001b[43msettings_config\u001b[49m\u001b[43m,\u001b[49m\n\u001b[1;32m     13\u001b[0m \u001b[43m                            \u001b[49m\u001b[43mparam_config\u001b[49m\u001b[43m,\u001b[49m\n\u001b[1;32m     14\u001b[0m \u001b[43m                            \u001b[49m\u001b[43margs\u001b[49m\u001b[38;5;241;43m.\u001b[39;49m\u001b[43mn_samples\u001b[49m\u001b[43m,\u001b[49m\n\u001b[1;32m     15\u001b[0m \u001b[43m                            \u001b[49m\u001b[43margs\u001b[49m\u001b[43m,\u001b[49m\n\u001b[1;32m     16\u001b[0m \u001b[43m                            \u001b[49m\u001b[43mscript_dir\u001b[49m\u001b[43m,\u001b[49m\n\u001b[1;32m     17\u001b[0m \u001b[43m                            \u001b[49m\u001b[43mresults_dir\u001b[49m\u001b[43m,\u001b[49m\n\u001b[1;32m     18\u001b[0m \u001b[43m                            \u001b[49m\u001b[43mgraph_coo\u001b[49m\u001b[43m,\u001b[49m\n\u001b[1;32m     19\u001b[0m \u001b[43m                            \u001b[49m\u001b[43mclades_dict\u001b[49m\u001b[43m)\u001b[49m\n",
      "File \u001b[0;32m~/code/sequence-vaes/VAE_moreta/../../DRAUPNIR_ASR/draupnir/src/draupnir/main.py:1099\u001b[0m, in \u001b[0;36mdraupnir_train\u001b[0;34m(train_load, test_load, additional_load, additional_info, build_config, settings_config, params_config, n_samples, args, script_dir, results_dir, graph_coo, clades_dict)\u001b[0m\n\u001b[1;32m   1096\u001b[0m     plot_percent_id(average_pid_list, std_pid_list, results_dir)\n\u001b[1;32m   1097\u001b[0m start \u001b[38;5;241m=\u001b[39m time\u001b[38;5;241m.\u001b[39mtime()\n\u001b[0;32m-> 1099\u001b[0m map_estimates \u001b[38;5;241m=\u001b[39m \u001b[43mguide\u001b[49m\u001b[43m(\u001b[49m\u001b[43mdataset_train\u001b[49m\u001b[43m,\u001b[49m\u001b[43m \u001b[49m\u001b[43mpatristic_matrix_train\u001b[49m\u001b[43m,\u001b[49m\u001b[43m \u001b[49m\u001b[43mcladistic_matrix_train\u001b[49m\u001b[43m,\u001b[49m\u001b[43m \u001b[49m\u001b[43mdataset_train_blosum\u001b[49m\u001b[43m,\u001b[49m\n\u001b[1;32m   1100\u001b[0m \u001b[43m                      \u001b[49m\u001b[38;5;28;43;01mNone\u001b[39;49;00m\u001b[43m,\u001b[49m\n\u001b[1;32m   1101\u001b[0m \u001b[43m                      \u001b[49m\u001b[38;5;28;43;01mNone\u001b[39;49;00m\u001b[43m)\u001b[49m\n\u001b[1;32m   1102\u001b[0m training_function_input[\u001b[38;5;124m\"\u001b[39m\u001b[38;5;124mmap_estimates\u001b[39m\u001b[38;5;124m\"\u001b[39m] \u001b[38;5;241m=\u001b[39m map_estimates\n\u001b[1;32m   1103\u001b[0m total_epoch_loss_train \u001b[38;5;241m=\u001b[39m training_function(svi, training_function_input)\n",
      "File \u001b[0;32m~/miniforge3/envs/Moreta_env/lib/python3.9/site-packages/pyro/nn/module.py:520\u001b[0m, in \u001b[0;36mPyroModule.__call__\u001b[0;34m(self, *args, **kwargs)\u001b[0m\n\u001b[1;32m    518\u001b[0m \u001b[38;5;28;01mdef\u001b[39;00m\u001b[38;5;250m \u001b[39m\u001b[38;5;21m__call__\u001b[39m(\u001b[38;5;28mself\u001b[39m, \u001b[38;5;241m*\u001b[39margs: Any, \u001b[38;5;241m*\u001b[39m\u001b[38;5;241m*\u001b[39mkwargs: Any) \u001b[38;5;241m-\u001b[39m\u001b[38;5;241m>\u001b[39m Any:\n\u001b[1;32m    519\u001b[0m     \u001b[38;5;28;01mwith\u001b[39;00m \u001b[38;5;28mself\u001b[39m\u001b[38;5;241m.\u001b[39m_pyro_context:\n\u001b[0;32m--> 520\u001b[0m         result \u001b[38;5;241m=\u001b[39m \u001b[38;5;28;43msuper\u001b[39;49m\u001b[43m(\u001b[49m\u001b[43m)\u001b[49m\u001b[38;5;241;43m.\u001b[39;49m\u001b[38;5;21;43m__call__\u001b[39;49m\u001b[43m(\u001b[49m\u001b[38;5;241;43m*\u001b[39;49m\u001b[43margs\u001b[49m\u001b[43m,\u001b[49m\u001b[43m \u001b[49m\u001b[38;5;241;43m*\u001b[39;49m\u001b[38;5;241;43m*\u001b[39;49m\u001b[43mkwargs\u001b[49m\u001b[43m)\u001b[49m\n\u001b[1;32m    521\u001b[0m     \u001b[38;5;28;01mif\u001b[39;00m (\n\u001b[1;32m    522\u001b[0m         pyro\u001b[38;5;241m.\u001b[39msettings\u001b[38;5;241m.\u001b[39mget(\u001b[38;5;124m\"\u001b[39m\u001b[38;5;124mvalidate_poutine\u001b[39m\u001b[38;5;124m\"\u001b[39m)\n\u001b[1;32m    523\u001b[0m         \u001b[38;5;129;01mand\u001b[39;00m \u001b[38;5;129;01mnot\u001b[39;00m \u001b[38;5;28mself\u001b[39m\u001b[38;5;241m.\u001b[39m_pyro_context\u001b[38;5;241m.\u001b[39mactive\n\u001b[1;32m    524\u001b[0m         \u001b[38;5;129;01mand\u001b[39;00m _is_module_local_param_enabled()\n\u001b[1;32m    525\u001b[0m     ):\n\u001b[1;32m    526\u001b[0m         \u001b[38;5;28mself\u001b[39m\u001b[38;5;241m.\u001b[39m_check_module_local_param_usage()\n",
      "File \u001b[0;32m~/miniforge3/envs/Moreta_env/lib/python3.9/site-packages/torch/nn/modules/module.py:1518\u001b[0m, in \u001b[0;36mModule._wrapped_call_impl\u001b[0;34m(self, *args, **kwargs)\u001b[0m\n\u001b[1;32m   1516\u001b[0m     \u001b[38;5;28;01mreturn\u001b[39;00m \u001b[38;5;28mself\u001b[39m\u001b[38;5;241m.\u001b[39m_compiled_call_impl(\u001b[38;5;241m*\u001b[39margs, \u001b[38;5;241m*\u001b[39m\u001b[38;5;241m*\u001b[39mkwargs)  \u001b[38;5;66;03m# type: ignore[misc]\u001b[39;00m\n\u001b[1;32m   1517\u001b[0m \u001b[38;5;28;01melse\u001b[39;00m:\n\u001b[0;32m-> 1518\u001b[0m     \u001b[38;5;28;01mreturn\u001b[39;00m \u001b[38;5;28;43mself\u001b[39;49m\u001b[38;5;241;43m.\u001b[39;49m\u001b[43m_call_impl\u001b[49m\u001b[43m(\u001b[49m\u001b[38;5;241;43m*\u001b[39;49m\u001b[43margs\u001b[49m\u001b[43m,\u001b[49m\u001b[43m \u001b[49m\u001b[38;5;241;43m*\u001b[39;49m\u001b[38;5;241;43m*\u001b[39;49m\u001b[43mkwargs\u001b[49m\u001b[43m)\u001b[49m\n",
      "File \u001b[0;32m~/miniforge3/envs/Moreta_env/lib/python3.9/site-packages/torch/nn/modules/module.py:1527\u001b[0m, in \u001b[0;36mModule._call_impl\u001b[0;34m(self, *args, **kwargs)\u001b[0m\n\u001b[1;32m   1522\u001b[0m \u001b[38;5;66;03m# If we don't have any hooks, we want to skip the rest of the logic in\u001b[39;00m\n\u001b[1;32m   1523\u001b[0m \u001b[38;5;66;03m# this function, and just call forward.\u001b[39;00m\n\u001b[1;32m   1524\u001b[0m \u001b[38;5;28;01mif\u001b[39;00m \u001b[38;5;129;01mnot\u001b[39;00m (\u001b[38;5;28mself\u001b[39m\u001b[38;5;241m.\u001b[39m_backward_hooks \u001b[38;5;129;01mor\u001b[39;00m \u001b[38;5;28mself\u001b[39m\u001b[38;5;241m.\u001b[39m_backward_pre_hooks \u001b[38;5;129;01mor\u001b[39;00m \u001b[38;5;28mself\u001b[39m\u001b[38;5;241m.\u001b[39m_forward_hooks \u001b[38;5;129;01mor\u001b[39;00m \u001b[38;5;28mself\u001b[39m\u001b[38;5;241m.\u001b[39m_forward_pre_hooks\n\u001b[1;32m   1525\u001b[0m         \u001b[38;5;129;01mor\u001b[39;00m _global_backward_pre_hooks \u001b[38;5;129;01mor\u001b[39;00m _global_backward_hooks\n\u001b[1;32m   1526\u001b[0m         \u001b[38;5;129;01mor\u001b[39;00m _global_forward_hooks \u001b[38;5;129;01mor\u001b[39;00m _global_forward_pre_hooks):\n\u001b[0;32m-> 1527\u001b[0m     \u001b[38;5;28;01mreturn\u001b[39;00m \u001b[43mforward_call\u001b[49m\u001b[43m(\u001b[49m\u001b[38;5;241;43m*\u001b[39;49m\u001b[43margs\u001b[49m\u001b[43m,\u001b[49m\u001b[43m \u001b[49m\u001b[38;5;241;43m*\u001b[39;49m\u001b[38;5;241;43m*\u001b[39;49m\u001b[43mkwargs\u001b[49m\u001b[43m)\u001b[49m\n\u001b[1;32m   1529\u001b[0m \u001b[38;5;28;01mtry\u001b[39;00m:\n\u001b[1;32m   1530\u001b[0m     result \u001b[38;5;241m=\u001b[39m \u001b[38;5;28;01mNone\u001b[39;00m\n",
      "File \u001b[0;32m~/miniforge3/envs/Moreta_env/lib/python3.9/site-packages/pyro/contrib/easyguide/easyguide.py:103\u001b[0m, in \u001b[0;36mEasyGuide.forward\u001b[0;34m(self, *args, **kwargs)\u001b[0m\n\u001b[1;32m     96\u001b[0m \u001b[38;5;250m\u001b[39m\u001b[38;5;124;03m\"\"\"\u001b[39;00m\n\u001b[1;32m     97\u001b[0m \u001b[38;5;124;03mRuns the guide. This is typically used by inference algorithms.\u001b[39;00m\n\u001b[1;32m     98\u001b[0m \n\u001b[1;32m     99\u001b[0m \u001b[38;5;124;03m.. note:: This method is used internally by :class:`~torch.nn.Module`.\u001b[39;00m\n\u001b[1;32m    100\u001b[0m \u001b[38;5;124;03m    Users should instead use :meth:`~torch.nn.Module.__call__`.\u001b[39;00m\n\u001b[1;32m    101\u001b[0m \u001b[38;5;124;03m\"\"\"\u001b[39;00m\n\u001b[1;32m    102\u001b[0m \u001b[38;5;28;01mif\u001b[39;00m \u001b[38;5;28mself\u001b[39m\u001b[38;5;241m.\u001b[39mprototype_trace \u001b[38;5;129;01mis\u001b[39;00m \u001b[38;5;28;01mNone\u001b[39;00m:\n\u001b[0;32m--> 103\u001b[0m     \u001b[38;5;28;43mself\u001b[39;49m\u001b[38;5;241;43m.\u001b[39;49m\u001b[43m_setup_prototype\u001b[49m\u001b[43m(\u001b[49m\u001b[38;5;241;43m*\u001b[39;49m\u001b[43margs\u001b[49m\u001b[43m,\u001b[49m\u001b[43m \u001b[49m\u001b[38;5;241;43m*\u001b[39;49m\u001b[38;5;241;43m*\u001b[39;49m\u001b[43mkwargs\u001b[49m\u001b[43m)\u001b[49m\n\u001b[1;32m    104\u001b[0m result \u001b[38;5;241m=\u001b[39m \u001b[38;5;28mself\u001b[39m\u001b[38;5;241m.\u001b[39mguide(\u001b[38;5;241m*\u001b[39margs, \u001b[38;5;241m*\u001b[39m\u001b[38;5;241m*\u001b[39mkwargs)\n\u001b[1;32m    105\u001b[0m \u001b[38;5;28mself\u001b[39m\u001b[38;5;241m.\u001b[39mplates\u001b[38;5;241m.\u001b[39mclear()\n",
      "File \u001b[0;32m~/miniforge3/envs/Moreta_env/lib/python3.9/site-packages/pyro/contrib/easyguide/easyguide.py:62\u001b[0m, in \u001b[0;36mEasyGuide._setup_prototype\u001b[0;34m(self, *args, **kwargs)\u001b[0m\n\u001b[1;32m     59\u001b[0m \u001b[38;5;28;01mdef\u001b[39;00m\u001b[38;5;250m \u001b[39m\u001b[38;5;21m_setup_prototype\u001b[39m(\u001b[38;5;28mself\u001b[39m, \u001b[38;5;241m*\u001b[39margs, \u001b[38;5;241m*\u001b[39m\u001b[38;5;241m*\u001b[39mkwargs):\n\u001b[1;32m     60\u001b[0m     \u001b[38;5;66;03m# run the model so we can inspect its structure\u001b[39;00m\n\u001b[1;32m     61\u001b[0m     model \u001b[38;5;241m=\u001b[39m poutine\u001b[38;5;241m.\u001b[39mblock(InitMessenger(\u001b[38;5;28mself\u001b[39m\u001b[38;5;241m.\u001b[39minit)(\u001b[38;5;28mself\u001b[39m\u001b[38;5;241m.\u001b[39mmodel), prototype_hide_fn)\n\u001b[0;32m---> 62\u001b[0m     \u001b[38;5;28mself\u001b[39m\u001b[38;5;241m.\u001b[39mprototype_trace \u001b[38;5;241m=\u001b[39m \u001b[43mpoutine\u001b[49m\u001b[38;5;241;43m.\u001b[39;49m\u001b[43mblock\u001b[49m\u001b[43m(\u001b[49m\u001b[43mpoutine\u001b[49m\u001b[38;5;241;43m.\u001b[39;49m\u001b[43mtrace\u001b[49m\u001b[43m(\u001b[49m\u001b[43mmodel\u001b[49m\u001b[43m)\u001b[49m\u001b[38;5;241;43m.\u001b[39;49m\u001b[43mget_trace\u001b[49m\u001b[43m)\u001b[49m\u001b[43m(\u001b[49m\n\u001b[1;32m     63\u001b[0m \u001b[43m        \u001b[49m\u001b[38;5;241;43m*\u001b[39;49m\u001b[43margs\u001b[49m\u001b[43m,\u001b[49m\u001b[43m \u001b[49m\u001b[38;5;241;43m*\u001b[39;49m\u001b[38;5;241;43m*\u001b[39;49m\u001b[43mkwargs\u001b[49m\n\u001b[1;32m     64\u001b[0m \u001b[43m    \u001b[49m\u001b[43m)\u001b[49m\n\u001b[1;32m     66\u001b[0m     \u001b[38;5;28;01mfor\u001b[39;00m name, site \u001b[38;5;129;01min\u001b[39;00m \u001b[38;5;28mself\u001b[39m\u001b[38;5;241m.\u001b[39mprototype_trace\u001b[38;5;241m.\u001b[39miter_stochastic_nodes():\n\u001b[1;32m     67\u001b[0m         \u001b[38;5;28;01mfor\u001b[39;00m frame \u001b[38;5;129;01min\u001b[39;00m site[\u001b[38;5;124m\"\u001b[39m\u001b[38;5;124mcond_indep_stack\u001b[39m\u001b[38;5;124m\"\u001b[39m]:\n",
      "File \u001b[0;32m~/miniforge3/envs/Moreta_env/lib/python3.9/site-packages/pyro/poutine/messenger.py:32\u001b[0m, in \u001b[0;36m_context_wrap\u001b[0;34m(context, fn, *args, **kwargs)\u001b[0m\n\u001b[1;32m     25\u001b[0m \u001b[38;5;28;01mdef\u001b[39;00m\u001b[38;5;250m \u001b[39m\u001b[38;5;21m_context_wrap\u001b[39m(\n\u001b[1;32m     26\u001b[0m     context: \u001b[38;5;124m\"\u001b[39m\u001b[38;5;124mMessenger\u001b[39m\u001b[38;5;124m\"\u001b[39m,\n\u001b[1;32m     27\u001b[0m     fn: Callable,\n\u001b[1;32m     28\u001b[0m     \u001b[38;5;241m*\u001b[39margs: Any,\n\u001b[1;32m     29\u001b[0m     \u001b[38;5;241m*\u001b[39m\u001b[38;5;241m*\u001b[39mkwargs: Any,\n\u001b[1;32m     30\u001b[0m ) \u001b[38;5;241m-\u001b[39m\u001b[38;5;241m>\u001b[39m Any:\n\u001b[1;32m     31\u001b[0m     \u001b[38;5;28;01mwith\u001b[39;00m context:\n\u001b[0;32m---> 32\u001b[0m         \u001b[38;5;28;01mreturn\u001b[39;00m \u001b[43mfn\u001b[49m\u001b[43m(\u001b[49m\u001b[38;5;241;43m*\u001b[39;49m\u001b[43margs\u001b[49m\u001b[43m,\u001b[49m\u001b[43m \u001b[49m\u001b[38;5;241;43m*\u001b[39;49m\u001b[38;5;241;43m*\u001b[39;49m\u001b[43mkwargs\u001b[49m\u001b[43m)\u001b[49m\n",
      "File \u001b[0;32m~/miniforge3/envs/Moreta_env/lib/python3.9/site-packages/pyro/poutine/trace_messenger.py:216\u001b[0m, in \u001b[0;36mTraceHandler.get_trace\u001b[0;34m(self, *args, **kwargs)\u001b[0m\n\u001b[1;32m    208\u001b[0m \u001b[38;5;28;01mdef\u001b[39;00m\u001b[38;5;250m \u001b[39m\u001b[38;5;21mget_trace\u001b[39m(\u001b[38;5;28mself\u001b[39m, \u001b[38;5;241m*\u001b[39margs, \u001b[38;5;241m*\u001b[39m\u001b[38;5;241m*\u001b[39mkwargs) \u001b[38;5;241m-\u001b[39m\u001b[38;5;241m>\u001b[39m Trace:\n\u001b[1;32m    209\u001b[0m \u001b[38;5;250m    \u001b[39m\u001b[38;5;124;03m\"\"\"\u001b[39;00m\n\u001b[1;32m    210\u001b[0m \u001b[38;5;124;03m    :returns: data structure\u001b[39;00m\n\u001b[1;32m    211\u001b[0m \u001b[38;5;124;03m    :rtype: pyro.poutine.Trace\u001b[39;00m\n\u001b[0;32m   (...)\u001b[0m\n\u001b[1;32m    214\u001b[0m \u001b[38;5;124;03m    Calls this poutine and returns its trace instead of the function's return value.\u001b[39;00m\n\u001b[1;32m    215\u001b[0m \u001b[38;5;124;03m    \"\"\"\u001b[39;00m\n\u001b[0;32m--> 216\u001b[0m     \u001b[38;5;28;43mself\u001b[39;49m\u001b[43m(\u001b[49m\u001b[38;5;241;43m*\u001b[39;49m\u001b[43margs\u001b[49m\u001b[43m,\u001b[49m\u001b[43m \u001b[49m\u001b[38;5;241;43m*\u001b[39;49m\u001b[38;5;241;43m*\u001b[39;49m\u001b[43mkwargs\u001b[49m\u001b[43m)\u001b[49m\n\u001b[1;32m    217\u001b[0m     \u001b[38;5;28;01mreturn\u001b[39;00m \u001b[38;5;28mself\u001b[39m\u001b[38;5;241m.\u001b[39mmsngr\u001b[38;5;241m.\u001b[39mget_trace()\n",
      "File \u001b[0;32m~/miniforge3/envs/Moreta_env/lib/python3.9/site-packages/pyro/poutine/trace_messenger.py:198\u001b[0m, in \u001b[0;36mTraceHandler.__call__\u001b[0;34m(self, *args, **kwargs)\u001b[0m\n\u001b[1;32m    196\u001b[0m         exc \u001b[38;5;241m=\u001b[39m exc_type(\u001b[38;5;124m\"\u001b[39m\u001b[38;5;132;01m{}\u001b[39;00m\u001b[38;5;130;01m\\n\u001b[39;00m\u001b[38;5;132;01m{}\u001b[39;00m\u001b[38;5;124m\"\u001b[39m\u001b[38;5;241m.\u001b[39mformat(exc_value, shapes))\n\u001b[1;32m    197\u001b[0m         exc \u001b[38;5;241m=\u001b[39m exc\u001b[38;5;241m.\u001b[39mwith_traceback(traceback)\n\u001b[0;32m--> 198\u001b[0m         \u001b[38;5;28;01mraise\u001b[39;00m exc \u001b[38;5;28;01mfrom\u001b[39;00m\u001b[38;5;250m \u001b[39m\u001b[38;5;21;01me\u001b[39;00m\n\u001b[1;32m    199\u001b[0m     \u001b[38;5;28mself\u001b[39m\u001b[38;5;241m.\u001b[39mmsngr\u001b[38;5;241m.\u001b[39mtrace\u001b[38;5;241m.\u001b[39madd_node(\n\u001b[1;32m    200\u001b[0m         \u001b[38;5;124m\"\u001b[39m\u001b[38;5;124m_RETURN\u001b[39m\u001b[38;5;124m\"\u001b[39m, name\u001b[38;5;241m=\u001b[39m\u001b[38;5;124m\"\u001b[39m\u001b[38;5;124m_RETURN\u001b[39m\u001b[38;5;124m\"\u001b[39m, \u001b[38;5;28mtype\u001b[39m\u001b[38;5;241m=\u001b[39m\u001b[38;5;124m\"\u001b[39m\u001b[38;5;124mreturn\u001b[39m\u001b[38;5;124m\"\u001b[39m, value\u001b[38;5;241m=\u001b[39mret\n\u001b[1;32m    201\u001b[0m     )\n\u001b[1;32m    202\u001b[0m \u001b[38;5;28;01mreturn\u001b[39;00m ret\n",
      "File \u001b[0;32m~/miniforge3/envs/Moreta_env/lib/python3.9/site-packages/pyro/poutine/trace_messenger.py:191\u001b[0m, in \u001b[0;36mTraceHandler.__call__\u001b[0;34m(self, *args, **kwargs)\u001b[0m\n\u001b[1;32m    187\u001b[0m \u001b[38;5;28mself\u001b[39m\u001b[38;5;241m.\u001b[39mmsngr\u001b[38;5;241m.\u001b[39mtrace\u001b[38;5;241m.\u001b[39madd_node(\n\u001b[1;32m    188\u001b[0m     \u001b[38;5;124m\"\u001b[39m\u001b[38;5;124m_INPUT\u001b[39m\u001b[38;5;124m\"\u001b[39m, name\u001b[38;5;241m=\u001b[39m\u001b[38;5;124m\"\u001b[39m\u001b[38;5;124m_INPUT\u001b[39m\u001b[38;5;124m\"\u001b[39m, \u001b[38;5;28mtype\u001b[39m\u001b[38;5;241m=\u001b[39m\u001b[38;5;124m\"\u001b[39m\u001b[38;5;124margs\u001b[39m\u001b[38;5;124m\"\u001b[39m, args\u001b[38;5;241m=\u001b[39margs, kwargs\u001b[38;5;241m=\u001b[39mkwargs\n\u001b[1;32m    189\u001b[0m )\n\u001b[1;32m    190\u001b[0m \u001b[38;5;28;01mtry\u001b[39;00m:\n\u001b[0;32m--> 191\u001b[0m     ret \u001b[38;5;241m=\u001b[39m \u001b[38;5;28;43mself\u001b[39;49m\u001b[38;5;241;43m.\u001b[39;49m\u001b[43mfn\u001b[49m\u001b[43m(\u001b[49m\u001b[38;5;241;43m*\u001b[39;49m\u001b[43margs\u001b[49m\u001b[43m,\u001b[49m\u001b[43m \u001b[49m\u001b[38;5;241;43m*\u001b[39;49m\u001b[38;5;241;43m*\u001b[39;49m\u001b[43mkwargs\u001b[49m\u001b[43m)\u001b[49m\n\u001b[1;32m    192\u001b[0m \u001b[38;5;28;01mexcept\u001b[39;00m (\u001b[38;5;167;01mValueError\u001b[39;00m, \u001b[38;5;167;01mRuntimeError\u001b[39;00m) \u001b[38;5;28;01mas\u001b[39;00m e:\n\u001b[1;32m    193\u001b[0m     exc_type, exc_value, traceback \u001b[38;5;241m=\u001b[39m sys\u001b[38;5;241m.\u001b[39mexc_info()\n",
      "File \u001b[0;32m~/miniforge3/envs/Moreta_env/lib/python3.9/site-packages/pyro/poutine/messenger.py:32\u001b[0m, in \u001b[0;36m_context_wrap\u001b[0;34m(context, fn, *args, **kwargs)\u001b[0m\n\u001b[1;32m     25\u001b[0m \u001b[38;5;28;01mdef\u001b[39;00m\u001b[38;5;250m \u001b[39m\u001b[38;5;21m_context_wrap\u001b[39m(\n\u001b[1;32m     26\u001b[0m     context: \u001b[38;5;124m\"\u001b[39m\u001b[38;5;124mMessenger\u001b[39m\u001b[38;5;124m\"\u001b[39m,\n\u001b[1;32m     27\u001b[0m     fn: Callable,\n\u001b[1;32m     28\u001b[0m     \u001b[38;5;241m*\u001b[39margs: Any,\n\u001b[1;32m     29\u001b[0m     \u001b[38;5;241m*\u001b[39m\u001b[38;5;241m*\u001b[39mkwargs: Any,\n\u001b[1;32m     30\u001b[0m ) \u001b[38;5;241m-\u001b[39m\u001b[38;5;241m>\u001b[39m Any:\n\u001b[1;32m     31\u001b[0m     \u001b[38;5;28;01mwith\u001b[39;00m context:\n\u001b[0;32m---> 32\u001b[0m         \u001b[38;5;28;01mreturn\u001b[39;00m \u001b[43mfn\u001b[49m\u001b[43m(\u001b[49m\u001b[38;5;241;43m*\u001b[39;49m\u001b[43margs\u001b[49m\u001b[43m,\u001b[49m\u001b[43m \u001b[49m\u001b[38;5;241;43m*\u001b[39;49m\u001b[38;5;241;43m*\u001b[39;49m\u001b[43mkwargs\u001b[49m\u001b[43m)\u001b[49m\n",
      "File \u001b[0;32m~/miniforge3/envs/Moreta_env/lib/python3.9/site-packages/pyro/poutine/messenger.py:32\u001b[0m, in \u001b[0;36m_context_wrap\u001b[0;34m(context, fn, *args, **kwargs)\u001b[0m\n\u001b[1;32m     25\u001b[0m \u001b[38;5;28;01mdef\u001b[39;00m\u001b[38;5;250m \u001b[39m\u001b[38;5;21m_context_wrap\u001b[39m(\n\u001b[1;32m     26\u001b[0m     context: \u001b[38;5;124m\"\u001b[39m\u001b[38;5;124mMessenger\u001b[39m\u001b[38;5;124m\"\u001b[39m,\n\u001b[1;32m     27\u001b[0m     fn: Callable,\n\u001b[1;32m     28\u001b[0m     \u001b[38;5;241m*\u001b[39margs: Any,\n\u001b[1;32m     29\u001b[0m     \u001b[38;5;241m*\u001b[39m\u001b[38;5;241m*\u001b[39mkwargs: Any,\n\u001b[1;32m     30\u001b[0m ) \u001b[38;5;241m-\u001b[39m\u001b[38;5;241m>\u001b[39m Any:\n\u001b[1;32m     31\u001b[0m     \u001b[38;5;28;01mwith\u001b[39;00m context:\n\u001b[0;32m---> 32\u001b[0m         \u001b[38;5;28;01mreturn\u001b[39;00m \u001b[43mfn\u001b[49m\u001b[43m(\u001b[49m\u001b[38;5;241;43m*\u001b[39;49m\u001b[43margs\u001b[49m\u001b[43m,\u001b[49m\u001b[43m \u001b[49m\u001b[38;5;241;43m*\u001b[39;49m\u001b[38;5;241;43m*\u001b[39;49m\u001b[43mkwargs\u001b[49m\u001b[43m)\u001b[49m\n",
      "File \u001b[0;32m~/code/sequence-vaes/VAE_moreta/../../DRAUPNIR_ASR/draupnir/src/draupnir/models.py:359\u001b[0m, in \u001b[0;36mDRAUPNIRModel_classic.model\u001b[0;34m(self, family_data, patristic_matrix_sorted, cladistic_matrix, data_blosum, batch_blosum, guide_map_estimates)\u001b[0m\n\u001b[1;32m    357\u001b[0m     \u001b[38;5;28mself\u001b[39m\u001b[38;5;241m.\u001b[39mmodel_delta_map(family_data, patristic_matrix_sorted, cladistic_matrix, data_blosum,batch_blosum, guide_map_estimates)\n\u001b[1;32m    358\u001b[0m \u001b[38;5;28;01melse\u001b[39;00m:\n\u001b[0;32m--> 359\u001b[0m     \u001b[38;5;28;43mself\u001b[39;49m\u001b[38;5;241;43m.\u001b[39;49m\u001b[43mmodel_variational\u001b[49m\u001b[43m(\u001b[49m\u001b[43mfamily_data\u001b[49m\u001b[43m,\u001b[49m\u001b[43m \u001b[49m\u001b[43mpatristic_matrix_sorted\u001b[49m\u001b[43m,\u001b[49m\u001b[43m \u001b[49m\u001b[43mcladistic_matrix\u001b[49m\u001b[43m,\u001b[49m\u001b[43m \u001b[49m\u001b[43mdata_blosum\u001b[49m\u001b[43m,\u001b[49m\u001b[43mbatch_blosum\u001b[49m\u001b[43m,\u001b[49m\u001b[43m \u001b[49m\u001b[43mguide_map_estimates\u001b[49m\u001b[43m)\u001b[49m\n",
      "File \u001b[0;32m~/code/sequence-vaes/VAE_moreta/../../DRAUPNIR_ASR/draupnir/src/draupnir/models.py:322\u001b[0m, in \u001b[0;36mDRAUPNIRModel_classic.model_variational\u001b[0;34m(self, family_data, patristic_matrix_sorted, cladistic_matrix, data_blosum, batch_blosum, guide_map_estimates)\u001b[0m\n\u001b[1;32m    319\u001b[0m \u001b[38;5;66;03m# if guide_map_estimates is not None:\u001b[39;00m\n\u001b[1;32m    320\u001b[0m \u001b[38;5;66;03m#     decoder_hidden = guide_map_estimates[\"rnn_final_bidirectional\"]\u001b[39;00m\n\u001b[1;32m    321\u001b[0m \u001b[38;5;28;01mwith\u001b[39;00m pyro\u001b[38;5;241m.\u001b[39mplate(\u001b[38;5;124m\"\u001b[39m\u001b[38;5;124mplate_len\u001b[39m\u001b[38;5;124m\"\u001b[39m, dim\u001b[38;5;241m=\u001b[39m\u001b[38;5;241m-\u001b[39m\u001b[38;5;241m2\u001b[39m):\n\u001b[0;32m--> 322\u001b[0m         logits \u001b[38;5;241m=\u001b[39m \u001b[38;5;28;43mself\u001b[39;49m\u001b[38;5;241;43m.\u001b[39;49m\u001b[43mdecoder\u001b[49m\u001b[38;5;241;43m.\u001b[39;49m\u001b[43mforward\u001b[49m\u001b[43m(\u001b[49m\n\u001b[1;32m    323\u001b[0m \u001b[43m            \u001b[49m\u001b[38;5;28;43minput\u001b[39;49m\u001b[38;5;241;43m=\u001b[39;49m\u001b[43mlatent_space\u001b[49m\u001b[43m,\u001b[49m\n\u001b[1;32m    324\u001b[0m \u001b[43m            \u001b[49m\u001b[43mhidden\u001b[49m\u001b[38;5;241;43m=\u001b[39;49m\u001b[43mdecoder_hidden\u001b[49m\u001b[43m)\u001b[49m\n\u001b[1;32m    325\u001b[0m         pyro\u001b[38;5;241m.\u001b[39msample(\u001b[38;5;124m\"\u001b[39m\u001b[38;5;124maa_sequences\u001b[39m\u001b[38;5;124m\"\u001b[39m, dist\u001b[38;5;241m.\u001b[39mCategorical(logits\u001b[38;5;241m=\u001b[39mlogits),obs\u001b[38;5;241m=\u001b[39maminoacid_sequences)\n",
      "File \u001b[0;32m~/code/sequence-vaes/VAE_moreta/../../DRAUPNIR_ASR/draupnir/src/draupnir/models_utils.py:94\u001b[0m, in \u001b[0;36mRNNDecoder_Tiling.forward\u001b[0;34m(self, input, hidden)\u001b[0m\n\u001b[1;32m     93\u001b[0m \u001b[38;5;28;01mdef\u001b[39;00m\u001b[38;5;250m \u001b[39m\u001b[38;5;21mforward\u001b[39m(\u001b[38;5;28mself\u001b[39m, \u001b[38;5;28minput\u001b[39m, hidden):\n\u001b[0;32m---> 94\u001b[0m     rnn_output, rnn_hidden \u001b[38;5;241m=\u001b[39m \u001b[38;5;28;43mself\u001b[39;49m\u001b[38;5;241;43m.\u001b[39;49m\u001b[43mrnn\u001b[49m\u001b[43m(\u001b[49m\u001b[38;5;28;43minput\u001b[39;49m\u001b[43m,\u001b[49m\u001b[43m \u001b[49m\u001b[43mhidden\u001b[49m\u001b[43m)\u001b[49m  \u001b[38;5;66;03m# [n_nodes,align_seq_len,gru_dim] | [1,n_nodes,gru_dim]\u001b[39;00m\n\u001b[1;32m     95\u001b[0m     \u001b[38;5;66;03m#forward_out = rnn_output[:, :, :self.gru_hidden_dim]\u001b[39;00m\n\u001b[1;32m     96\u001b[0m     \u001b[38;5;66;03m#backward_out = rnn_output[:, :, self.gru_hidden_dim:]\u001b[39;00m\n\u001b[1;32m     97\u001b[0m     \u001b[38;5;66;03m#rnn_output_out = torch.cat((forward_out, backward_out), dim=2)\u001b[39;00m\n\u001b[1;32m     98\u001b[0m     output_logits \u001b[38;5;241m=\u001b[39m \u001b[38;5;28mself\u001b[39m\u001b[38;5;241m.\u001b[39mlogsoftmax(\u001b[38;5;28mself\u001b[39m\u001b[38;5;241m.\u001b[39mlinear_probs(\u001b[38;5;28mself\u001b[39m\u001b[38;5;241m.\u001b[39mfc1(rnn_output)))  \u001b[38;5;66;03m# [n_nodes,align_seq_len,aa_probs]\u001b[39;00m\n",
      "File \u001b[0;32m~/miniforge3/envs/Moreta_env/lib/python3.9/site-packages/torch/nn/modules/module.py:1518\u001b[0m, in \u001b[0;36mModule._wrapped_call_impl\u001b[0;34m(self, *args, **kwargs)\u001b[0m\n\u001b[1;32m   1516\u001b[0m     \u001b[38;5;28;01mreturn\u001b[39;00m \u001b[38;5;28mself\u001b[39m\u001b[38;5;241m.\u001b[39m_compiled_call_impl(\u001b[38;5;241m*\u001b[39margs, \u001b[38;5;241m*\u001b[39m\u001b[38;5;241m*\u001b[39mkwargs)  \u001b[38;5;66;03m# type: ignore[misc]\u001b[39;00m\n\u001b[1;32m   1517\u001b[0m \u001b[38;5;28;01melse\u001b[39;00m:\n\u001b[0;32m-> 1518\u001b[0m     \u001b[38;5;28;01mreturn\u001b[39;00m \u001b[38;5;28;43mself\u001b[39;49m\u001b[38;5;241;43m.\u001b[39;49m\u001b[43m_call_impl\u001b[49m\u001b[43m(\u001b[49m\u001b[38;5;241;43m*\u001b[39;49m\u001b[43margs\u001b[49m\u001b[43m,\u001b[49m\u001b[43m \u001b[49m\u001b[38;5;241;43m*\u001b[39;49m\u001b[38;5;241;43m*\u001b[39;49m\u001b[43mkwargs\u001b[49m\u001b[43m)\u001b[49m\n",
      "File \u001b[0;32m~/miniforge3/envs/Moreta_env/lib/python3.9/site-packages/torch/nn/modules/module.py:1527\u001b[0m, in \u001b[0;36mModule._call_impl\u001b[0;34m(self, *args, **kwargs)\u001b[0m\n\u001b[1;32m   1522\u001b[0m \u001b[38;5;66;03m# If we don't have any hooks, we want to skip the rest of the logic in\u001b[39;00m\n\u001b[1;32m   1523\u001b[0m \u001b[38;5;66;03m# this function, and just call forward.\u001b[39;00m\n\u001b[1;32m   1524\u001b[0m \u001b[38;5;28;01mif\u001b[39;00m \u001b[38;5;129;01mnot\u001b[39;00m (\u001b[38;5;28mself\u001b[39m\u001b[38;5;241m.\u001b[39m_backward_hooks \u001b[38;5;129;01mor\u001b[39;00m \u001b[38;5;28mself\u001b[39m\u001b[38;5;241m.\u001b[39m_backward_pre_hooks \u001b[38;5;129;01mor\u001b[39;00m \u001b[38;5;28mself\u001b[39m\u001b[38;5;241m.\u001b[39m_forward_hooks \u001b[38;5;129;01mor\u001b[39;00m \u001b[38;5;28mself\u001b[39m\u001b[38;5;241m.\u001b[39m_forward_pre_hooks\n\u001b[1;32m   1525\u001b[0m         \u001b[38;5;129;01mor\u001b[39;00m _global_backward_pre_hooks \u001b[38;5;129;01mor\u001b[39;00m _global_backward_hooks\n\u001b[1;32m   1526\u001b[0m         \u001b[38;5;129;01mor\u001b[39;00m _global_forward_hooks \u001b[38;5;129;01mor\u001b[39;00m _global_forward_pre_hooks):\n\u001b[0;32m-> 1527\u001b[0m     \u001b[38;5;28;01mreturn\u001b[39;00m \u001b[43mforward_call\u001b[49m\u001b[43m(\u001b[49m\u001b[38;5;241;43m*\u001b[39;49m\u001b[43margs\u001b[49m\u001b[43m,\u001b[49m\u001b[43m \u001b[49m\u001b[38;5;241;43m*\u001b[39;49m\u001b[38;5;241;43m*\u001b[39;49m\u001b[43mkwargs\u001b[49m\u001b[43m)\u001b[49m\n\u001b[1;32m   1529\u001b[0m \u001b[38;5;28;01mtry\u001b[39;00m:\n\u001b[1;32m   1530\u001b[0m     result \u001b[38;5;241m=\u001b[39m \u001b[38;5;28;01mNone\u001b[39;00m\n",
      "File \u001b[0;32m~/miniforge3/envs/Moreta_env/lib/python3.9/site-packages/torch/nn/modules/rnn.py:1102\u001b[0m, in \u001b[0;36mGRU.forward\u001b[0;34m(self, input, hx)\u001b[0m\n\u001b[1;32m   1100\u001b[0m \u001b[38;5;28mself\u001b[39m\u001b[38;5;241m.\u001b[39mcheck_forward_args(\u001b[38;5;28minput\u001b[39m, hx, batch_sizes)\n\u001b[1;32m   1101\u001b[0m \u001b[38;5;28;01mif\u001b[39;00m batch_sizes \u001b[38;5;129;01mis\u001b[39;00m \u001b[38;5;28;01mNone\u001b[39;00m:\n\u001b[0;32m-> 1102\u001b[0m     result \u001b[38;5;241m=\u001b[39m \u001b[43m_VF\u001b[49m\u001b[38;5;241;43m.\u001b[39;49m\u001b[43mgru\u001b[49m\u001b[43m(\u001b[49m\u001b[38;5;28;43minput\u001b[39;49m\u001b[43m,\u001b[49m\u001b[43m \u001b[49m\u001b[43mhx\u001b[49m\u001b[43m,\u001b[49m\u001b[43m \u001b[49m\u001b[38;5;28;43mself\u001b[39;49m\u001b[38;5;241;43m.\u001b[39;49m\u001b[43m_flat_weights\u001b[49m\u001b[43m,\u001b[49m\u001b[43m \u001b[49m\u001b[38;5;28;43mself\u001b[39;49m\u001b[38;5;241;43m.\u001b[39;49m\u001b[43mbias\u001b[49m\u001b[43m,\u001b[49m\u001b[43m \u001b[49m\u001b[38;5;28;43mself\u001b[39;49m\u001b[38;5;241;43m.\u001b[39;49m\u001b[43mnum_layers\u001b[49m\u001b[43m,\u001b[49m\n\u001b[1;32m   1103\u001b[0m \u001b[43m                     \u001b[49m\u001b[38;5;28;43mself\u001b[39;49m\u001b[38;5;241;43m.\u001b[39;49m\u001b[43mdropout\u001b[49m\u001b[43m,\u001b[49m\u001b[43m \u001b[49m\u001b[38;5;28;43mself\u001b[39;49m\u001b[38;5;241;43m.\u001b[39;49m\u001b[43mtraining\u001b[49m\u001b[43m,\u001b[49m\u001b[43m \u001b[49m\u001b[38;5;28;43mself\u001b[39;49m\u001b[38;5;241;43m.\u001b[39;49m\u001b[43mbidirectional\u001b[49m\u001b[43m,\u001b[49m\u001b[43m \u001b[49m\u001b[38;5;28;43mself\u001b[39;49m\u001b[38;5;241;43m.\u001b[39;49m\u001b[43mbatch_first\u001b[49m\u001b[43m)\u001b[49m\n\u001b[1;32m   1104\u001b[0m \u001b[38;5;28;01melse\u001b[39;00m:\n\u001b[1;32m   1105\u001b[0m     result \u001b[38;5;241m=\u001b[39m _VF\u001b[38;5;241m.\u001b[39mgru(\u001b[38;5;28minput\u001b[39m, batch_sizes, hx, \u001b[38;5;28mself\u001b[39m\u001b[38;5;241m.\u001b[39m_flat_weights, \u001b[38;5;28mself\u001b[39m\u001b[38;5;241m.\u001b[39mbias,\n\u001b[1;32m   1106\u001b[0m                      \u001b[38;5;28mself\u001b[39m\u001b[38;5;241m.\u001b[39mnum_layers, \u001b[38;5;28mself\u001b[39m\u001b[38;5;241m.\u001b[39mdropout, \u001b[38;5;28mself\u001b[39m\u001b[38;5;241m.\u001b[39mtraining, \u001b[38;5;28mself\u001b[39m\u001b[38;5;241m.\u001b[39mbidirectional)\n",
      "File \u001b[0;32m~/miniforge3/envs/Moreta_env/lib/python3.9/site-packages/torch/utils/_device.py:77\u001b[0m, in \u001b[0;36mDeviceContext.__torch_function__\u001b[0;34m(self, func, types, args, kwargs)\u001b[0m\n\u001b[1;32m     75\u001b[0m \u001b[38;5;28;01mif\u001b[39;00m func \u001b[38;5;129;01min\u001b[39;00m _device_constructors() \u001b[38;5;129;01mand\u001b[39;00m kwargs\u001b[38;5;241m.\u001b[39mget(\u001b[38;5;124m'\u001b[39m\u001b[38;5;124mdevice\u001b[39m\u001b[38;5;124m'\u001b[39m) \u001b[38;5;129;01mis\u001b[39;00m \u001b[38;5;28;01mNone\u001b[39;00m:\n\u001b[1;32m     76\u001b[0m     kwargs[\u001b[38;5;124m'\u001b[39m\u001b[38;5;124mdevice\u001b[39m\u001b[38;5;124m'\u001b[39m] \u001b[38;5;241m=\u001b[39m \u001b[38;5;28mself\u001b[39m\u001b[38;5;241m.\u001b[39mdevice\n\u001b[0;32m---> 77\u001b[0m \u001b[38;5;28;01mreturn\u001b[39;00m \u001b[43mfunc\u001b[49m\u001b[43m(\u001b[49m\u001b[38;5;241;43m*\u001b[39;49m\u001b[43margs\u001b[49m\u001b[43m,\u001b[49m\u001b[43m \u001b[49m\u001b[38;5;241;43m*\u001b[39;49m\u001b[38;5;241;43m*\u001b[39;49m\u001b[43mkwargs\u001b[49m\u001b[43m)\u001b[49m\n",
      "\u001b[0;31mRuntimeError\u001b[0m: NVML_SUCCESS == DriverAPI::get()->nvmlInit_v2_() INTERNAL ASSERT FAILED at \"/opt/conda/conda-bld/pytorch_1695392035629/work/c10/cuda/CUDACachingAllocator.cpp\":1123, please report a bug to PyTorch. \nTrace Shapes:         \n Param Sites:         \nSample Sites:         \n   alpha dist |  3    \n        value |  3    \n sigma_f dist | 30    \n        value | 30    \n sigma_n dist | 30    \n        value | 30    \n   lambd dist | 30    \n        value | 30    \nlatent_z dist | 30 466\n        value | 30 466"
     ]
    }
   ],
   "source": [
    "print(\"Training Draupnir with the entire tree at once, not batching\")\n",
    "if not args.batch_by_clade:\n",
    "    clades_dict=None\n",
    "else:\n",
    "    clades_dict = additional_load.clades_dict_leaves\n",
    "graph_coo = None #Highlight: use only with the GNN models (7)---> Otherwise it is found in additional_info\n",
    "draupnir.main.draupnir_train(train_load,\n",
    "                            test_load,\n",
    "                            additional_load,\n",
    "                            additional_info,\n",
    "                            build_config,\n",
    "                            settings_config,\n",
    "                            param_config,\n",
    "                            args.n_samples,\n",
    "                            args,\n",
    "                            script_dir,\n",
    "                            results_dir,\n",
    "                            graph_coo,\n",
    "                            clades_dict)"
   ]
  },
  {
   "cell_type": "code",
   "execution_count": null,
   "id": "49cca250-8c7c-4300-91d3-95da9e72a86d",
   "metadata": {},
   "outputs": [],
   "source": []
  },
  {
   "cell_type": "code",
   "execution_count": null,
   "id": "473c4028-be09-406b-9f52-c7dca2127d7f",
   "metadata": {},
   "outputs": [],
   "source": [
    "!pwd"
   ]
  },
  {
   "cell_type": "code",
   "execution_count": null,
   "id": "f09deea0-1247-45d4-9a1d-00a3aedacc05",
   "metadata": {},
   "outputs": [],
   "source": [
    "\n",
    "                                         "
   ]
  }
 ],
 "metadata": {
  "kernelspec": {
   "display_name": "Python 3 (ipykernel)",
   "language": "python",
   "name": "python3"
  },
  "language_info": {
   "codemirror_mode": {
    "name": "ipython",
    "version": 3
   },
   "file_extension": ".py",
   "mimetype": "text/x-python",
   "name": "python",
   "nbconvert_exporter": "python",
   "pygments_lexer": "ipython3",
   "version": "3.9.23"
  }
 },
 "nbformat": 4,
 "nbformat_minor": 5
}
